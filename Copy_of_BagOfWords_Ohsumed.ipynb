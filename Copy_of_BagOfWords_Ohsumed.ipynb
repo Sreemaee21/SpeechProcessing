{
  "cells": [
    {
      "cell_type": "markdown",
      "metadata": {
        "id": "view-in-github",
        "colab_type": "text"
      },
      "source": [
        "<a href=\"https://colab.research.google.com/github/Sreemaee21/SpeechProcessing/blob/main/Copy_of_BagOfWords_Ohsumed.ipynb\" target=\"_parent\"><img src=\"https://colab.research.google.com/assets/colab-badge.svg\" alt=\"Open In Colab\"/></a>"
      ]
    },
    {
      "cell_type": "code",
      "execution_count": null,
      "id": "121456a5",
      "metadata": {
        "scrolled": true,
        "id": "121456a5",
        "outputId": "0b01e16e-6567-4984-d930-d4b51d5b226f",
        "colab": {
          "base_uri": "https://localhost:8080/"
        }
      },
      "outputs": [
        {
          "output_type": "stream",
          "name": "stdout",
          "text": [
            "Requirement already satisfied: datasets in /usr/local/lib/python3.10/dist-packages (2.14.4)\n",
            "Requirement already satisfied: numpy>=1.17 in /usr/local/lib/python3.10/dist-packages (from datasets) (1.23.5)\n",
            "Requirement already satisfied: pyarrow>=8.0.0 in /usr/local/lib/python3.10/dist-packages (from datasets) (9.0.0)\n",
            "Requirement already satisfied: dill<0.3.8,>=0.3.0 in /usr/local/lib/python3.10/dist-packages (from datasets) (0.3.7)\n",
            "Requirement already satisfied: pandas in /usr/local/lib/python3.10/dist-packages (from datasets) (1.5.3)\n",
            "Requirement already satisfied: requests>=2.19.0 in /usr/local/lib/python3.10/dist-packages (from datasets) (2.31.0)\n",
            "Requirement already satisfied: tqdm>=4.62.1 in /usr/local/lib/python3.10/dist-packages (from datasets) (4.66.1)\n",
            "Requirement already satisfied: xxhash in /usr/local/lib/python3.10/dist-packages (from datasets) (3.3.0)\n",
            "Requirement already satisfied: multiprocess in /usr/local/lib/python3.10/dist-packages (from datasets) (0.70.15)\n",
            "Requirement already satisfied: fsspec[http]>=2021.11.1 in /usr/local/lib/python3.10/dist-packages (from datasets) (2023.6.0)\n",
            "Requirement already satisfied: aiohttp in /usr/local/lib/python3.10/dist-packages (from datasets) (3.8.5)\n",
            "Requirement already satisfied: huggingface-hub<1.0.0,>=0.14.0 in /usr/local/lib/python3.10/dist-packages (from datasets) (0.16.4)\n",
            "Requirement already satisfied: packaging in /usr/local/lib/python3.10/dist-packages (from datasets) (23.1)\n",
            "Requirement already satisfied: pyyaml>=5.1 in /usr/local/lib/python3.10/dist-packages (from datasets) (6.0.1)\n",
            "Requirement already satisfied: attrs>=17.3.0 in /usr/local/lib/python3.10/dist-packages (from aiohttp->datasets) (23.1.0)\n",
            "Requirement already satisfied: charset-normalizer<4.0,>=2.0 in /usr/local/lib/python3.10/dist-packages (from aiohttp->datasets) (3.2.0)\n",
            "Requirement already satisfied: multidict<7.0,>=4.5 in /usr/local/lib/python3.10/dist-packages (from aiohttp->datasets) (6.0.4)\n",
            "Requirement already satisfied: async-timeout<5.0,>=4.0.0a3 in /usr/local/lib/python3.10/dist-packages (from aiohttp->datasets) (4.0.3)\n",
            "Requirement already satisfied: yarl<2.0,>=1.0 in /usr/local/lib/python3.10/dist-packages (from aiohttp->datasets) (1.9.2)\n",
            "Requirement already satisfied: frozenlist>=1.1.1 in /usr/local/lib/python3.10/dist-packages (from aiohttp->datasets) (1.4.0)\n",
            "Requirement already satisfied: aiosignal>=1.1.2 in /usr/local/lib/python3.10/dist-packages (from aiohttp->datasets) (1.3.1)\n",
            "Requirement already satisfied: filelock in /usr/local/lib/python3.10/dist-packages (from huggingface-hub<1.0.0,>=0.14.0->datasets) (3.12.2)\n",
            "Requirement already satisfied: typing-extensions>=3.7.4.3 in /usr/local/lib/python3.10/dist-packages (from huggingface-hub<1.0.0,>=0.14.0->datasets) (4.7.1)\n",
            "Requirement already satisfied: idna<4,>=2.5 in /usr/local/lib/python3.10/dist-packages (from requests>=2.19.0->datasets) (3.4)\n",
            "Requirement already satisfied: urllib3<3,>=1.21.1 in /usr/local/lib/python3.10/dist-packages (from requests>=2.19.0->datasets) (2.0.4)\n",
            "Requirement already satisfied: certifi>=2017.4.17 in /usr/local/lib/python3.10/dist-packages (from requests>=2.19.0->datasets) (2023.7.22)\n",
            "Requirement already satisfied: python-dateutil>=2.8.1 in /usr/local/lib/python3.10/dist-packages (from pandas->datasets) (2.8.2)\n",
            "Requirement already satisfied: pytz>=2020.1 in /usr/local/lib/python3.10/dist-packages (from pandas->datasets) (2023.3)\n",
            "Requirement already satisfied: six>=1.5 in /usr/local/lib/python3.10/dist-packages (from python-dateutil>=2.8.1->pandas->datasets) (1.16.0)\n"
          ]
        }
      ],
      "source": [
        "!pip install datasets\n",
        "\n"
      ]
    },
    {
      "cell_type": "code",
      "source": [
        "import pickle\n",
        "from datasets import load_dataset\n",
        "import pandas as pd\n"
      ],
      "metadata": {
        "id": "CNHSEsgQnZ_R"
      },
      "id": "CNHSEsgQnZ_R",
      "execution_count": null,
      "outputs": []
    },
    {
      "cell_type": "code",
      "source": [
        "import nltk\n",
        "from nltk.corpus import stopwords\n",
        "from nltk.tokenize import word_tokenize\n",
        "from nltk.stem import WordNetLemmatizer\n",
        "import string\n",
        "\n",
        "from sklearn.feature_extraction.text import CountVectorizer\n"
      ],
      "metadata": {
        "id": "EO5VzL-rmQnL"
      },
      "id": "EO5VzL-rmQnL",
      "execution_count": null,
      "outputs": []
    },
    {
      "cell_type": "code",
      "source": [
        "import pickle\n",
        "from tqdm.notebook import tqdm\n",
        "\n",
        "\n"
      ],
      "metadata": {
        "id": "7nBWiODJmQcy"
      },
      "id": "7nBWiODJmQcy",
      "execution_count": null,
      "outputs": []
    },
    {
      "cell_type": "code",
      "source": [
        "\n",
        "from sklearn.model_selection import train_test_split\n",
        "from sklearn.preprocessing import StandardScaler\n",
        "from sklearn.svm import SVC\n",
        "from sklearn.metrics import accuracy_score"
      ],
      "metadata": {
        "id": "y7WVk2N4mrxY"
      },
      "id": "y7WVk2N4mrxY",
      "execution_count": null,
      "outputs": []
    },
    {
      "cell_type": "markdown",
      "source": [
        "uncomment the below cell to run complete code from scratch\n",
        "\n",
        "expected output:\n",
        "\n",
        "\n",
        "\n",
        "Downloading builder script: 100%\n",
        "10.1k/10.1k [00:00<00:00, 123kB/s]\n",
        "Downloading metadata: 100%\n",
        "2.73k/2.73k [00:00<00:00, 50.1kB/s]\n",
        "Downloading readme: 100%\n",
        "7.95k/7.95k [00:00<00:00, 145kB/s]\n",
        "Downloading data: 100%\n",
        "139M/139M [00:02<00:00, 60.2MB/s]\n",
        "Generating train split: 100%\n",
        "54709/54709 [00:09<00:00, 10156.47 examples/s]\n",
        "Generating test split: 100%\n",
        "293855/293855 [00:35<00:00, 5728.47 examples/s]"
      ],
      "metadata": {
        "id": "_nXfTV05uFxA"
      },
      "id": "_nXfTV05uFxA"
    },
    {
      "cell_type": "code",
      "execution_count": null,
      "id": "8cf4f4fa",
      "metadata": {
        "id": "8cf4f4fa"
      },
      "outputs": [],
      "source": [
        "\n",
        "\n",
        "# Load the ohsumed dataset\n",
        "dataset = load_dataset('ohsumed')\n",
        "\n",
        "\n",
        "# Split the dataset\n",
        "train_data = dataset[\"train\"]\n",
        "test_data = dataset[\"test\"]\n"
      ]
    },
    {
      "cell_type": "markdown",
      "source": [
        "<!-- uncomment the below cell to run complete code from scratch -->\n",
        "\n",
        "expected output:\n",
        "\n",
        "\n",
        "Missing values in 'train' split:\n",
        "seq_id              0\n",
        "medline_ui          0\n",
        "mesh_terms          0\n",
        "title               0\n",
        "publication_type    0\n",
        "abstract            0\n",
        "author              0\n",
        "source              0\n",
        "dtype: int64\n",
        "\n",
        "Missing values in 'test' split:\n",
        "seq_id              0\n",
        "medline_ui          0\n",
        "mesh_terms          0\n",
        "title               0\n",
        "publication_type    0\n",
        "abstract            0\n",
        "author              0\n",
        "source              0\n",
        "dtype: int64"
      ],
      "metadata": {
        "id": "HNFg3Pt-uM30"
      },
      "id": "HNFg3Pt-uM30"
    },
    {
      "cell_type": "code",
      "source": [
        "\n",
        "\n",
        "missing_values_train = dataset['train'].data.to_pandas().isnull().sum()\n",
        "print(\"Missing values in 'train' split:\")\n",
        "print(missing_values_train)\n",
        "\n",
        "# Check for missing values in the 'test' split\n",
        "missing_values_test = dataset['test'].data.to_pandas().isnull().sum()\n",
        "print(\"\\nMissing values in 'test' split:\")\n",
        "print(missing_values_test)\n"
      ],
      "metadata": {
        "id": "416aH91yVorD",
        "colab": {
          "base_uri": "https://localhost:8080/"
        },
        "outputId": "608e988d-ac61-4aee-ec34-3e56391544f9"
      },
      "id": "416aH91yVorD",
      "execution_count": null,
      "outputs": [
        {
          "output_type": "stream",
          "name": "stdout",
          "text": [
            "Missing values in 'train' split:\n",
            "seq_id              0\n",
            "medline_ui          0\n",
            "mesh_terms          0\n",
            "title               0\n",
            "publication_type    0\n",
            "abstract            0\n",
            "author              0\n",
            "source              0\n",
            "dtype: int64\n",
            "\n",
            "Missing values in 'test' split:\n",
            "seq_id              0\n",
            "medline_ui          0\n",
            "mesh_terms          0\n",
            "title               0\n",
            "publication_type    0\n",
            "abstract            0\n",
            "author              0\n",
            "source              0\n",
            "dtype: int64\n"
          ]
        }
      ]
    },
    {
      "cell_type": "markdown",
      "source": [
        "uncomment the below cell to run complete code from scratch\n",
        "\n",
        "\n",
        "expected output:\n",
        "\n",
        "dict_keys(['train', 'test'])"
      ],
      "metadata": {
        "id": "oY6AXdQauWno"
      },
      "id": "oY6AXdQauWno"
    },
    {
      "cell_type": "code",
      "execution_count": null,
      "id": "a63cab81",
      "metadata": {
        "id": "a63cab81"
      },
      "outputs": [],
      "source": [
        "\n",
        "# print(dataset.keys())\n"
      ]
    },
    {
      "cell_type": "markdown",
      "source": [
        "\n",
        "\n",
        "\n",
        "uncomment the below cell to run complete code from scratch\n",
        "\n",
        "expected output:\n",
        "\n",
        "\n",
        "\n",
        "Train dataset:\n",
        "Dataset({\n",
        "    features: ['seq_id', 'medline_ui', 'mesh_terms', 'title', 'publication_type', 'abstract', 'author', 'source'],\n",
        "    num_rows: 54709\n",
        "})\n",
        "\n",
        "Test dataset:\n",
        "Dataset({\n",
        "    features: ['seq_id', 'medline_ui', 'mesh_terms', 'title', 'publication_type', 'abstract', 'author', 'source'],\n",
        "    num_rows: 293855\n",
        "})\n"
      ],
      "metadata": {
        "id": "xogpADuRyJ78"
      },
      "id": "xogpADuRyJ78"
    },
    {
      "cell_type": "code",
      "execution_count": null,
      "id": "825acadb",
      "metadata": {
        "id": "825acadb",
        "colab": {
          "base_uri": "https://localhost:8080/"
        },
        "outputId": "b1ffe91d-7b16-4104-ab66-5f07e6cae937"
      },
      "outputs": [
        {
          "output_type": "stream",
          "name": "stdout",
          "text": [
            "Train dataset:\n",
            "Dataset({\n",
            "    features: ['seq_id', 'medline_ui', 'mesh_terms', 'title', 'publication_type', 'abstract', 'author', 'source'],\n",
            "    num_rows: 54709\n",
            "})\n",
            "\n",
            "Test dataset:\n",
            "Dataset({\n",
            "    features: ['seq_id', 'medline_ui', 'mesh_terms', 'title', 'publication_type', 'abstract', 'author', 'source'],\n",
            "    num_rows: 293855\n",
            "})\n"
          ]
        }
      ],
      "source": [
        "\n",
        "# View the first few rows of each dataset\n",
        "print(\"Train dataset:\")\n",
        "print(train_data)\n",
        "train_data_df = pd.DataFrame(dataset['train'])\n",
        "\n",
        "print(\"\\nTest dataset:\")\n",
        "print(test_data)\n",
        "test_data_df = pd.DataFrame(dataset['test'])\n",
        "\n"
      ]
    },
    {
      "cell_type": "markdown",
      "source": [
        "## **Pre-Processing**"
      ],
      "metadata": {
        "id": "MKVEfpQWsX0y"
      },
      "id": "MKVEfpQWsX0y"
    },
    {
      "cell_type": "code",
      "execution_count": null,
      "id": "64ace888",
      "metadata": {
        "scrolled": true,
        "id": "64ace888",
        "colab": {
          "base_uri": "https://localhost:8080/"
        },
        "outputId": "bccfb895-84d0-4c96-f451-572f23cc5223"
      },
      "outputs": [
        {
          "output_type": "stream",
          "name": "stderr",
          "text": [
            "[nltk_data] Downloading package stopwords to /root/nltk_data...\n",
            "[nltk_data]   Package stopwords is already up-to-date!\n",
            "[nltk_data] Downloading package punkt to /root/nltk_data...\n",
            "[nltk_data]   Package punkt is already up-to-date!\n",
            "[nltk_data] Downloading package wordnet to /root/nltk_data...\n",
            "[nltk_data]   Package wordnet is already up-to-date!\n"
          ]
        }
      ],
      "source": [
        "\n",
        "\n",
        "nltk.download('stopwords')\n",
        "nltk.download('punkt')\n",
        "nltk.download('wordnet')\n",
        "\n",
        "# # Load the ohsumed dataset\n",
        "# dataset = load_dataset('ohsumed')\n",
        "\n",
        "# Load the stopwords\n",
        "stop_words = set(stopwords.words('english'))\n",
        "\n",
        "# Initialize the lemmatizer\n",
        "lemmatizer = WordNetLemmatizer()\n"
      ]
    },
    {
      "cell_type": "code",
      "source": [
        "\n",
        "# Define the preprocessing function\n",
        "def preprocess_text(text):\n",
        "    # Tokenize the text\n",
        "    tokens = word_tokenize(text.lower())\n",
        "\n",
        "    # Remove punctuation\n",
        "    tokens = [token for token in tokens if token not in string.punctuation]\n",
        "\n",
        "    # Remove stopwords and lemmatize\n",
        "    tokens = [lemmatizer.lemmatize(token) for token in tokens if token not in stop_words]\n",
        "\n",
        "    # Join the tokens back into a single string\n",
        "    preprocessed_text = ' '.join(tokens)\n",
        "\n",
        "    return preprocessed_text\n",
        "\n"
      ],
      "metadata": {
        "id": "jgWNN3FIsW06"
      },
      "id": "jgWNN3FIsW06",
      "execution_count": null,
      "outputs": []
    },
    {
      "cell_type": "markdown",
      "source": [
        "# **Train data prep**"
      ],
      "metadata": {
        "id": "qnphYRJrW22D"
      },
      "id": "qnphYRJrW22D"
    },
    {
      "cell_type": "markdown",
      "source": [
        "Storing all pre-processed train data in pickle files\n"
      ],
      "metadata": {
        "id": "XHKfMzyWtNMO"
      },
      "id": "XHKfMzyWtNMO"
    },
    {
      "cell_type": "markdown",
      "source": [
        "uncomment the below cell to run complete code from scratch\n",
        "\n",
        "expected output:\n",
        "\n",
        "100%\n",
        "54709/54709 [03:29<00:00, 127.12it/s]"
      ],
      "metadata": {
        "id": "kmbU5YbyyUSP"
      },
      "id": "kmbU5YbyyUSP"
    },
    {
      "cell_type": "code",
      "execution_count": null,
      "id": "df625fd3",
      "metadata": {
        "id": "df625fd3",
        "colab": {
          "base_uri": "https://localhost:8080/",
          "height": 49,
          "referenced_widgets": [
            "01cd2e31229940beaa5fbc6647560477",
            "4f7c13580d764e8b8151a357dce5faa1",
            "9bd6d85da9c54cc5a787ad1edd600649",
            "2917a6ea1e7d470680a1cae2d743459d",
            "48f8ffdd4e954c9fa8382f5d0037195c",
            "e9b1f48bd1004f5e838daf90232f7f5a",
            "83c3083c90d94ecaae9ef109a56b0e58",
            "161c2d32be8d4131816038ce66013b39",
            "a1d6567218544d6e9c16369cee2da462",
            "ca8de0fa538142689fd17aae3d3740a4",
            "8022b8a9f7714e44b1608c0b4d0775bd"
          ]
        },
        "outputId": "758d7eb6-daf6-49f7-eb09-751ec7e968bb"
      },
      "outputs": [
        {
          "output_type": "display_data",
          "data": {
            "text/plain": [
              "  0%|          | 0/54709 [00:00<?, ?it/s]"
            ],
            "application/vnd.jupyter.widget-view+json": {
              "version_major": 2,
              "version_minor": 0,
              "model_id": "01cd2e31229940beaa5fbc6647560477"
            }
          },
          "metadata": {}
        }
      ],
      "source": [
        "\n",
        "\n",
        "# Create a list to store processed data\n",
        "processed_data_list = []\n",
        "\n",
        "# Loop through train_data and preprocess\n",
        "for data in tqdm(train_data):\n",
        "    # Preprocess 'title', 'abstract', and 'mesh_terms' fields\n",
        "    data['title'] = preprocess_text(data['title'])\n",
        "    data['abstract'] = preprocess_text(data['abstract'])\n",
        "    data['mesh_terms'] = preprocess_text(data['mesh_terms'])\n",
        "\n",
        "    # Append the processed data dictionary to the list\n",
        "    processed_data_list.append(data)\n",
        "\n",
        "# Save the processed_data_list to a pickle file\n",
        "with open('processed_data.pickle', 'wb') as f:\n",
        "    pickle.dump(processed_data_list, f)\n"
      ]
    },
    {
      "cell_type": "markdown",
      "source": [
        "Loading train data from pickle file\n"
      ],
      "metadata": {
        "id": "dKXD6UKQtHo-"
      },
      "id": "dKXD6UKQtHo-"
    },
    {
      "cell_type": "code",
      "source": [
        "\n",
        "\n",
        "# Load the processed data from the pickle file\n",
        "with open('processed_data.pickle', 'rb') as f:\n",
        "    loaded_processed_data = pickle.load(f)\n",
        "\n",
        "# Now you can access the processed data dictionaries in the loaded_processed_data list\n"
      ],
      "metadata": {
        "id": "sFlvcNX2fUfj"
      },
      "id": "sFlvcNX2fUfj",
      "execution_count": null,
      "outputs": []
    },
    {
      "cell_type": "code",
      "source": [
        "\n",
        "# Load the processed_data_list from the pickle file\n",
        "with open('processed_data.pickle', 'rb') as f:\n",
        "    processed_data_list = pickle.load(f)\n",
        "\n",
        "\n",
        "# Create a list to store preprocessed mesh terms\n",
        "preprocessed_mesh_terms = [data['mesh_terms'] for data in processed_data_list]\n",
        "\n",
        "# Initialize the CountVectorizer\n",
        "vectorizer = CountVectorizer()\n",
        "\n",
        "# Fit and transform the training data\n",
        "X_train_bow = vectorizer.fit_transform(preprocessed_mesh_terms)\n",
        "\n",
        "# Now X_train_bow will contain the Bag-of-Words representation of the training data\n"
      ],
      "metadata": {
        "id": "1cFAb5X9iwuS"
      },
      "id": "1cFAb5X9iwuS",
      "execution_count": null,
      "outputs": []
    },
    {
      "cell_type": "code",
      "execution_count": null,
      "id": "9c6759b1",
      "metadata": {
        "id": "9c6759b1",
        "colab": {
          "base_uri": "https://localhost:8080/"
        },
        "outputId": "f2c01ea1-e15f-4876-daea-ddfef9fd307f"
      },
      "outputs": [
        {
          "output_type": "stream",
          "name": "stdout",
          "text": [
            "  (0, 375)\t1\n",
            "  (0, 4075)\t1\n",
            "  (0, 6910)\t1\n",
            "  (0, 2980)\t1\n",
            "  (0, 2177)\t1\n",
            "  (0, 3027)\t2\n",
            "  (0, 5538)\t1\n",
            "  (0, 8907)\t1\n",
            "  (0, 4304)\t1\n",
            "  (0, 7488)\t1\n",
            "  (0, 7835)\t1\n",
            "  (0, 8780)\t1\n",
            "  (0, 3953)\t1\n",
            "  (0, 9127)\t1\n",
            "  (0, 3395)\t1\n",
            "  (0, 9250)\t1\n",
            "  (0, 6772)\t1\n",
            "  (0, 9610)\t1\n",
            "  (0, 3482)\t1\n",
            "  (0, 8999)\t1\n",
            "  (1, 3027)\t2\n",
            "  (1, 4304)\t1\n",
            "  (1, 7488)\t1\n",
            "  (1, 8999)\t1\n",
            "  (1, 623)\t1\n",
            "  :\t:\n",
            "  (54708, 502)\t2\n",
            "  (54708, 2275)\t1\n",
            "  (54708, 6929)\t2\n",
            "  (54708, 6632)\t1\n",
            "  (54708, 3570)\t1\n",
            "  (54708, 6779)\t1\n",
            "  (54708, 8793)\t1\n",
            "  (54708, 6286)\t1\n",
            "  (54708, 629)\t1\n",
            "  (54708, 4544)\t3\n",
            "  (54708, 3575)\t1\n",
            "  (54708, 4746)\t1\n",
            "  (54708, 9410)\t1\n",
            "  (54708, 1574)\t1\n",
            "  (54708, 780)\t1\n",
            "  (54708, 5872)\t1\n",
            "  (54708, 8839)\t1\n",
            "  (54708, 2347)\t1\n",
            "  (54708, 6971)\t1\n",
            "  (54708, 4528)\t1\n",
            "  (54708, 631)\t1\n",
            "  (54708, 5335)\t1\n",
            "  (54708, 9233)\t1\n",
            "  (54708, 4251)\t1\n",
            "  (54708, 2825)\t1\n"
          ]
        }
      ],
      "source": [
        "print(X_train_bow)\n"
      ]
    },
    {
      "cell_type": "code",
      "execution_count": null,
      "id": "bba7a1f8",
      "metadata": {
        "id": "bba7a1f8",
        "colab": {
          "base_uri": "https://localhost:8080/"
        },
        "outputId": "74cacf13-5321-41df-e9df-155e6ad018a5"
      },
      "outputs": [
        {
          "output_type": "stream",
          "name": "stdout",
          "text": [
            "(54709, 9876)\n"
          ]
        }
      ],
      "source": [
        "print(X_train_bow.shape)\n",
        "\n"
      ]
    },
    {
      "cell_type": "code",
      "source": [
        "\n",
        "# Create a DataFrame from the processed data\n",
        "train_data_df = pd.DataFrame(processed_data_list)\n",
        "\n",
        "# Combine 'title' and 'abstract' columns into 'combined_text'\n",
        "train_data_df['combined_text'] = train_data_df['title'].apply(' '.join) + ' ' + train_data_df['abstract'].apply(' '.join)\n",
        "\n",
        "\n",
        "# Check if there are any empty or very short documents\n",
        "short_documents = train_data_df[train_data_df['combined_text'].str.split().str.len() <= 3]\n",
        "print(short_documents)\n"
      ],
      "metadata": {
        "colab": {
          "base_uri": "https://localhost:8080/"
        },
        "id": "DYFX_xCoj3vw",
        "outputId": "811292bf-d4f6-4a9d-a715-a3a85b0897a9"
      },
      "id": "DYFX_xCoj3vw",
      "execution_count": null,
      "outputs": [
        {
          "output_type": "stream",
          "name": "stdout",
          "text": [
            "Empty DataFrame\n",
            "Columns: [seq_id, medline_ui, mesh_terms, title, publication_type, abstract, author, source, combined_text]\n",
            "Index: []\n"
          ]
        }
      ]
    },
    {
      "cell_type": "code",
      "source": [
        "\n",
        "# Check for missing values\n",
        "missing_values = train_data_df.isnull().sum()\n",
        "print(missing_values)"
      ],
      "metadata": {
        "colab": {
          "base_uri": "https://localhost:8080/"
        },
        "id": "fIFxtBYBkKuA",
        "outputId": "9a046571-14f3-47ea-c864-ff1fe4f64cd4"
      },
      "id": "fIFxtBYBkKuA",
      "execution_count": null,
      "outputs": [
        {
          "output_type": "stream",
          "name": "stdout",
          "text": [
            "seq_id              0\n",
            "medline_ui          0\n",
            "mesh_terms          0\n",
            "title               0\n",
            "publication_type    0\n",
            "abstract            0\n",
            "author              0\n",
            "source              0\n",
            "combined_text       0\n",
            "dtype: int64\n"
          ]
        }
      ]
    },
    {
      "cell_type": "code",
      "source": [
        "train_data_df\n"
      ],
      "metadata": {
        "id": "5RNtvTW2qc5Y",
        "colab": {
          "base_uri": "https://localhost:8080/",
          "height": 832
        },
        "outputId": "af0197ae-70bd-4438-df89-62c70263f6ca"
      },
      "id": "5RNtvTW2qc5Y",
      "execution_count": null,
      "outputs": [
        {
          "output_type": "execute_result",
          "data": {
            "text/plain": [
              "       seq_id  medline_ui                                         mesh_terms  \\\n",
              "0           1    87049087  allied health personnel/ electric countershock...   \n",
              "1           1    87049088  antidepressive agent tricyclic/ po arrhythmia/...   \n",
              "2           1    87049089  adult aircraft/ altitude/ blood gas monitoring...   \n",
              "3           1    87049090  adolescence adult aged blood glucose/ diabetes...   \n",
              "4           1    87049092  aged aged 80 case report female human intubati...   \n",
              "...       ...         ...                                                ...   \n",
              "54704       1    87325763  autoantibodies/ blood coagulation factors/an/ ...   \n",
              "54705       1    87325791  animal arachidonic acids/me biomechanics endop...   \n",
              "54706       1    87325811  actins/me animal cell adhesion cell movement c...   \n",
              "54707       1    87325849  alteplase/ pd animal cornea/ah dose-response r...   \n",
              "54708       1    87326525  antigen surface/an arthritis/im/ pa/pp blood c...   \n",
              "\n",
              "                                                   title  \\\n",
              "0      refibrillation managed emt-ds incidence outcom...   \n",
              "1      tricyclic antidepressant overdose emergency de...   \n",
              "2      transconjunctival oxygen monitoring predictor ...   \n",
              "3      serum glucose change administration 50 dextros...   \n",
              "4      nasogastric intubation morbidity asymptomatic ...   \n",
              "...                                                  ...   \n",
              "54704  spectrum neurologic disease associated antipho...   \n",
              "54705          prostaglandin old concept new perspective   \n",
              "54706  vinculin focal cell-to-substrate attachment sp...   \n",
              "54707  intraocular fibrinolysis recombinant human tis...   \n",
              "54708  peripheral blood synovial fluid monocyte activ...   \n",
              "\n",
              "               publication_type  \\\n",
              "0              JOURNAL ARTICLE.   \n",
              "1              JOURNAL ARTICLE.   \n",
              "2              JOURNAL ARTICLE.   \n",
              "3              JOURNAL ARTICLE.   \n",
              "4              JOURNAL ARTICLE.   \n",
              "...                         ...   \n",
              "54704  JOURNAL ARTICLE; REVIEW.   \n",
              "54705          JOURNAL ARTICLE.   \n",
              "54706          JOURNAL ARTICLE.   \n",
              "54707          JOURNAL ARTICLE.   \n",
              "54708          JOURNAL ARTICLE.   \n",
              "\n",
              "                                                abstract  \\\n",
              "0      patient converted ventricular fibrillation org...   \n",
              "1      controversy regarding appropriate utilization ...   \n",
              "2      use helicopter air transport critically ill pa...   \n",
              "3      prospective clinical trial conducted estimate ...   \n",
              "4      unusual case misdirected nasogastric tube desc...   \n",
              "...                                                  ...   \n",
              "54704  lupus anticoagulant anticardiolipin antibody a...   \n",
              "54705  lupus anticoagulant anticardiolipin antibody a...   \n",
              "54706  vinculin specialized protein molecular weight ...   \n",
              "54707  intraocular fibrin formation following ocular ...   \n",
              "54708  recent study expression monocyte differentiati...   \n",
              "\n",
              "                                                  author  \\\n",
              "0                                   Stults KR; Brown DD.   \n",
              "1                     Foulke GE; Albertson TE; Walby WF.   \n",
              "2      Shufflebarger C; Jehle D; Cottington E; Martin M.   \n",
              "3                                              Adler PM.   \n",
              "4                                       Gough D; Rust D.   \n",
              "...                                                  ...   \n",
              "54704                               Levine SR; Welch KM.   \n",
              "54705                                           Bito LZ.   \n",
              "54706                                          Soong HK.   \n",
              "54707                Snyder RW; Lambrou FH; Williams GA.   \n",
              "54708                         Firestein GS; Zvaifler NJ.   \n",
              "\n",
              "                                     source  \\\n",
              "0           Am J Emerg Med 8703; 4(6):491-5   \n",
              "1         Am J Emerg Med 8703; 4(6):496-500   \n",
              "2           Am J Emerg Med 8703; 4(6):501-3   \n",
              "3           Am J Emerg Med 8703; 4(6):504-6   \n",
              "4           Am J Emerg Med 8703; 4(6):511-3   \n",
              "...                                     ...   \n",
              "54704        Arch Neurol 8712; 44(8):876-83   \n",
              "54705   Arch Ophthalmol 8712; 105(8):1036-9   \n",
              "54706  Arch Ophthalmol 8712; 105(8):1129-32   \n",
              "54707  Arch Ophthalmol 8712; 105(9):1277-80   \n",
              "54708    Arthritis Rheum 8712; 30(8):857-63   \n",
              "\n",
              "                                           combined_text  \n",
              "0      r e f i b r i l l a t i o n   m a n a g e d   ...  \n",
              "1      t r i c y c l i c   a n t i d e p r e s s a n ...  \n",
              "2      t r a n s c o n j u n c t i v a l   o x y g e ...  \n",
              "3      s e r u m   g l u c o s e   c h a n g e   a d ...  \n",
              "4      n a s o g a s t r i c   i n t u b a t i o n   ...  \n",
              "...                                                  ...  \n",
              "54704  s p e c t r u m   n e u r o l o g i c   d i s ...  \n",
              "54705  p r o s t a g l a n d i n   o l d   c o n c e ...  \n",
              "54706  v i n c u l i n   f o c a l   c e l l - t o - ...  \n",
              "54707  i n t r a o c u l a r   f i b r i n o l y s i ...  \n",
              "54708  p e r i p h e r a l   b l o o d   s y n o v i ...  \n",
              "\n",
              "[54709 rows x 9 columns]"
            ],
            "text/html": [
              "\n",
              "\n",
              "  <div id=\"df-63149d23-0ec2-4b9b-af1d-6296945dcec1\">\n",
              "    <div class=\"colab-df-container\">\n",
              "      <div>\n",
              "<style scoped>\n",
              "    .dataframe tbody tr th:only-of-type {\n",
              "        vertical-align: middle;\n",
              "    }\n",
              "\n",
              "    .dataframe tbody tr th {\n",
              "        vertical-align: top;\n",
              "    }\n",
              "\n",
              "    .dataframe thead th {\n",
              "        text-align: right;\n",
              "    }\n",
              "</style>\n",
              "<table border=\"1\" class=\"dataframe\">\n",
              "  <thead>\n",
              "    <tr style=\"text-align: right;\">\n",
              "      <th></th>\n",
              "      <th>seq_id</th>\n",
              "      <th>medline_ui</th>\n",
              "      <th>mesh_terms</th>\n",
              "      <th>title</th>\n",
              "      <th>publication_type</th>\n",
              "      <th>abstract</th>\n",
              "      <th>author</th>\n",
              "      <th>source</th>\n",
              "      <th>combined_text</th>\n",
              "    </tr>\n",
              "  </thead>\n",
              "  <tbody>\n",
              "    <tr>\n",
              "      <th>0</th>\n",
              "      <td>1</td>\n",
              "      <td>87049087</td>\n",
              "      <td>allied health personnel/ electric countershock...</td>\n",
              "      <td>refibrillation managed emt-ds incidence outcom...</td>\n",
              "      <td>JOURNAL ARTICLE.</td>\n",
              "      <td>patient converted ventricular fibrillation org...</td>\n",
              "      <td>Stults KR; Brown DD.</td>\n",
              "      <td>Am J Emerg Med 8703; 4(6):491-5</td>\n",
              "      <td>r e f i b r i l l a t i o n   m a n a g e d   ...</td>\n",
              "    </tr>\n",
              "    <tr>\n",
              "      <th>1</th>\n",
              "      <td>1</td>\n",
              "      <td>87049088</td>\n",
              "      <td>antidepressive agent tricyclic/ po arrhythmia/...</td>\n",
              "      <td>tricyclic antidepressant overdose emergency de...</td>\n",
              "      <td>JOURNAL ARTICLE.</td>\n",
              "      <td>controversy regarding appropriate utilization ...</td>\n",
              "      <td>Foulke GE; Albertson TE; Walby WF.</td>\n",
              "      <td>Am J Emerg Med 8703; 4(6):496-500</td>\n",
              "      <td>t r i c y c l i c   a n t i d e p r e s s a n ...</td>\n",
              "    </tr>\n",
              "    <tr>\n",
              "      <th>2</th>\n",
              "      <td>1</td>\n",
              "      <td>87049089</td>\n",
              "      <td>adult aircraft/ altitude/ blood gas monitoring...</td>\n",
              "      <td>transconjunctival oxygen monitoring predictor ...</td>\n",
              "      <td>JOURNAL ARTICLE.</td>\n",
              "      <td>use helicopter air transport critically ill pa...</td>\n",
              "      <td>Shufflebarger C; Jehle D; Cottington E; Martin M.</td>\n",
              "      <td>Am J Emerg Med 8703; 4(6):501-3</td>\n",
              "      <td>t r a n s c o n j u n c t i v a l   o x y g e ...</td>\n",
              "    </tr>\n",
              "    <tr>\n",
              "      <th>3</th>\n",
              "      <td>1</td>\n",
              "      <td>87049090</td>\n",
              "      <td>adolescence adult aged blood glucose/ diabetes...</td>\n",
              "      <td>serum glucose change administration 50 dextros...</td>\n",
              "      <td>JOURNAL ARTICLE.</td>\n",
              "      <td>prospective clinical trial conducted estimate ...</td>\n",
              "      <td>Adler PM.</td>\n",
              "      <td>Am J Emerg Med 8703; 4(6):504-6</td>\n",
              "      <td>s e r u m   g l u c o s e   c h a n g e   a d ...</td>\n",
              "    </tr>\n",
              "    <tr>\n",
              "      <th>4</th>\n",
              "      <td>1</td>\n",
              "      <td>87049092</td>\n",
              "      <td>aged aged 80 case report female human intubati...</td>\n",
              "      <td>nasogastric intubation morbidity asymptomatic ...</td>\n",
              "      <td>JOURNAL ARTICLE.</td>\n",
              "      <td>unusual case misdirected nasogastric tube desc...</td>\n",
              "      <td>Gough D; Rust D.</td>\n",
              "      <td>Am J Emerg Med 8703; 4(6):511-3</td>\n",
              "      <td>n a s o g a s t r i c   i n t u b a t i o n   ...</td>\n",
              "    </tr>\n",
              "    <tr>\n",
              "      <th>...</th>\n",
              "      <td>...</td>\n",
              "      <td>...</td>\n",
              "      <td>...</td>\n",
              "      <td>...</td>\n",
              "      <td>...</td>\n",
              "      <td>...</td>\n",
              "      <td>...</td>\n",
              "      <td>...</td>\n",
              "      <td>...</td>\n",
              "    </tr>\n",
              "    <tr>\n",
              "      <th>54704</th>\n",
              "      <td>1</td>\n",
              "      <td>87325763</td>\n",
              "      <td>autoantibodies/ blood coagulation factors/an/ ...</td>\n",
              "      <td>spectrum neurologic disease associated antipho...</td>\n",
              "      <td>JOURNAL ARTICLE; REVIEW.</td>\n",
              "      <td>lupus anticoagulant anticardiolipin antibody a...</td>\n",
              "      <td>Levine SR; Welch KM.</td>\n",
              "      <td>Arch Neurol 8712; 44(8):876-83</td>\n",
              "      <td>s p e c t r u m   n e u r o l o g i c   d i s ...</td>\n",
              "    </tr>\n",
              "    <tr>\n",
              "      <th>54705</th>\n",
              "      <td>1</td>\n",
              "      <td>87325791</td>\n",
              "      <td>animal arachidonic acids/me biomechanics endop...</td>\n",
              "      <td>prostaglandin old concept new perspective</td>\n",
              "      <td>JOURNAL ARTICLE.</td>\n",
              "      <td>lupus anticoagulant anticardiolipin antibody a...</td>\n",
              "      <td>Bito LZ.</td>\n",
              "      <td>Arch Ophthalmol 8712; 105(8):1036-9</td>\n",
              "      <td>p r o s t a g l a n d i n   o l d   c o n c e ...</td>\n",
              "    </tr>\n",
              "    <tr>\n",
              "      <th>54706</th>\n",
              "      <td>1</td>\n",
              "      <td>87325811</td>\n",
              "      <td>actins/me animal cell adhesion cell movement c...</td>\n",
              "      <td>vinculin focal cell-to-substrate attachment sp...</td>\n",
              "      <td>JOURNAL ARTICLE.</td>\n",
              "      <td>vinculin specialized protein molecular weight ...</td>\n",
              "      <td>Soong HK.</td>\n",
              "      <td>Arch Ophthalmol 8712; 105(8):1129-32</td>\n",
              "      <td>v i n c u l i n   f o c a l   c e l l - t o - ...</td>\n",
              "    </tr>\n",
              "    <tr>\n",
              "      <th>54707</th>\n",
              "      <td>1</td>\n",
              "      <td>87325849</td>\n",
              "      <td>alteplase/ pd animal cornea/ah dose-response r...</td>\n",
              "      <td>intraocular fibrinolysis recombinant human tis...</td>\n",
              "      <td>JOURNAL ARTICLE.</td>\n",
              "      <td>intraocular fibrin formation following ocular ...</td>\n",
              "      <td>Snyder RW; Lambrou FH; Williams GA.</td>\n",
              "      <td>Arch Ophthalmol 8712; 105(9):1277-80</td>\n",
              "      <td>i n t r a o c u l a r   f i b r i n o l y s i ...</td>\n",
              "    </tr>\n",
              "    <tr>\n",
              "      <th>54708</th>\n",
              "      <td>1</td>\n",
              "      <td>87326525</td>\n",
              "      <td>antigen surface/an arthritis/im/ pa/pp blood c...</td>\n",
              "      <td>peripheral blood synovial fluid monocyte activ...</td>\n",
              "      <td>JOURNAL ARTICLE.</td>\n",
              "      <td>recent study expression monocyte differentiati...</td>\n",
              "      <td>Firestein GS; Zvaifler NJ.</td>\n",
              "      <td>Arthritis Rheum 8712; 30(8):857-63</td>\n",
              "      <td>p e r i p h e r a l   b l o o d   s y n o v i ...</td>\n",
              "    </tr>\n",
              "  </tbody>\n",
              "</table>\n",
              "<p>54709 rows × 9 columns</p>\n",
              "</div>\n",
              "      <button class=\"colab-df-convert\" onclick=\"convertToInteractive('df-63149d23-0ec2-4b9b-af1d-6296945dcec1')\"\n",
              "              title=\"Convert this dataframe to an interactive table.\"\n",
              "              style=\"display:none;\">\n",
              "\n",
              "  <svg xmlns=\"http://www.w3.org/2000/svg\" height=\"24px\"viewBox=\"0 0 24 24\"\n",
              "       width=\"24px\">\n",
              "    <path d=\"M0 0h24v24H0V0z\" fill=\"none\"/>\n",
              "    <path d=\"M18.56 5.44l.94 2.06.94-2.06 2.06-.94-2.06-.94-.94-2.06-.94 2.06-2.06.94zm-11 1L8.5 8.5l.94-2.06 2.06-.94-2.06-.94L8.5 2.5l-.94 2.06-2.06.94zm10 10l.94 2.06.94-2.06 2.06-.94-2.06-.94-.94-2.06-.94 2.06-2.06.94z\"/><path d=\"M17.41 7.96l-1.37-1.37c-.4-.4-.92-.59-1.43-.59-.52 0-1.04.2-1.43.59L10.3 9.45l-7.72 7.72c-.78.78-.78 2.05 0 2.83L4 21.41c.39.39.9.59 1.41.59.51 0 1.02-.2 1.41-.59l7.78-7.78 2.81-2.81c.8-.78.8-2.07 0-2.86zM5.41 20L4 18.59l7.72-7.72 1.47 1.35L5.41 20z\"/>\n",
              "  </svg>\n",
              "      </button>\n",
              "\n",
              "\n",
              "\n",
              "    <div id=\"df-a9f596a0-bb1d-4c8a-ba3f-5f9e03cf8588\">\n",
              "      <button class=\"colab-df-quickchart\" onclick=\"quickchart('df-a9f596a0-bb1d-4c8a-ba3f-5f9e03cf8588')\"\n",
              "              title=\"Suggest charts.\"\n",
              "              style=\"display:none;\">\n",
              "\n",
              "<svg xmlns=\"http://www.w3.org/2000/svg\" height=\"24px\"viewBox=\"0 0 24 24\"\n",
              "     width=\"24px\">\n",
              "    <g>\n",
              "        <path d=\"M19 3H5c-1.1 0-2 .9-2 2v14c0 1.1.9 2 2 2h14c1.1 0 2-.9 2-2V5c0-1.1-.9-2-2-2zM9 17H7v-7h2v7zm4 0h-2V7h2v10zm4 0h-2v-4h2v4z\"/>\n",
              "    </g>\n",
              "</svg>\n",
              "      </button>\n",
              "    </div>\n",
              "\n",
              "<style>\n",
              "  .colab-df-quickchart {\n",
              "    background-color: #E8F0FE;\n",
              "    border: none;\n",
              "    border-radius: 50%;\n",
              "    cursor: pointer;\n",
              "    display: none;\n",
              "    fill: #1967D2;\n",
              "    height: 32px;\n",
              "    padding: 0 0 0 0;\n",
              "    width: 32px;\n",
              "  }\n",
              "\n",
              "  .colab-df-quickchart:hover {\n",
              "    background-color: #E2EBFA;\n",
              "    box-shadow: 0px 1px 2px rgba(60, 64, 67, 0.3), 0px 1px 3px 1px rgba(60, 64, 67, 0.15);\n",
              "    fill: #174EA6;\n",
              "  }\n",
              "\n",
              "  [theme=dark] .colab-df-quickchart {\n",
              "    background-color: #3B4455;\n",
              "    fill: #D2E3FC;\n",
              "  }\n",
              "\n",
              "  [theme=dark] .colab-df-quickchart:hover {\n",
              "    background-color: #434B5C;\n",
              "    box-shadow: 0px 1px 3px 1px rgba(0, 0, 0, 0.15);\n",
              "    filter: drop-shadow(0px 1px 2px rgba(0, 0, 0, 0.3));\n",
              "    fill: #FFFFFF;\n",
              "  }\n",
              "</style>\n",
              "\n",
              "    <script>\n",
              "      async function quickchart(key) {\n",
              "        const containerElement = document.querySelector('#' + key);\n",
              "        const charts = await google.colab.kernel.invokeFunction(\n",
              "            'suggestCharts', [key], {});\n",
              "      }\n",
              "    </script>\n",
              "\n",
              "      <script>\n",
              "\n",
              "function displayQuickchartButton(domScope) {\n",
              "  let quickchartButtonEl =\n",
              "    domScope.querySelector('#df-a9f596a0-bb1d-4c8a-ba3f-5f9e03cf8588 button.colab-df-quickchart');\n",
              "  quickchartButtonEl.style.display =\n",
              "    google.colab.kernel.accessAllowed ? 'block' : 'none';\n",
              "}\n",
              "\n",
              "        displayQuickchartButton(document);\n",
              "      </script>\n",
              "      <style>\n",
              "    .colab-df-container {\n",
              "      display:flex;\n",
              "      flex-wrap:wrap;\n",
              "      gap: 12px;\n",
              "    }\n",
              "\n",
              "    .colab-df-convert {\n",
              "      background-color: #E8F0FE;\n",
              "      border: none;\n",
              "      border-radius: 50%;\n",
              "      cursor: pointer;\n",
              "      display: none;\n",
              "      fill: #1967D2;\n",
              "      height: 32px;\n",
              "      padding: 0 0 0 0;\n",
              "      width: 32px;\n",
              "    }\n",
              "\n",
              "    .colab-df-convert:hover {\n",
              "      background-color: #E2EBFA;\n",
              "      box-shadow: 0px 1px 2px rgba(60, 64, 67, 0.3), 0px 1px 3px 1px rgba(60, 64, 67, 0.15);\n",
              "      fill: #174EA6;\n",
              "    }\n",
              "\n",
              "    [theme=dark] .colab-df-convert {\n",
              "      background-color: #3B4455;\n",
              "      fill: #D2E3FC;\n",
              "    }\n",
              "\n",
              "    [theme=dark] .colab-df-convert:hover {\n",
              "      background-color: #434B5C;\n",
              "      box-shadow: 0px 1px 3px 1px rgba(0, 0, 0, 0.15);\n",
              "      filter: drop-shadow(0px 1px 2px rgba(0, 0, 0, 0.3));\n",
              "      fill: #FFFFFF;\n",
              "    }\n",
              "  </style>\n",
              "\n",
              "      <script>\n",
              "        const buttonEl =\n",
              "          document.querySelector('#df-63149d23-0ec2-4b9b-af1d-6296945dcec1 button.colab-df-convert');\n",
              "        buttonEl.style.display =\n",
              "          google.colab.kernel.accessAllowed ? 'block' : 'none';\n",
              "\n",
              "        async function convertToInteractive(key) {\n",
              "          const element = document.querySelector('#df-63149d23-0ec2-4b9b-af1d-6296945dcec1');\n",
              "          const dataTable =\n",
              "            await google.colab.kernel.invokeFunction('convertToInteractive',\n",
              "                                                     [key], {});\n",
              "          if (!dataTable) return;\n",
              "\n",
              "          const docLinkHtml = 'Like what you see? Visit the ' +\n",
              "            '<a target=\"_blank\" href=https://colab.research.google.com/notebooks/data_table.ipynb>data table notebook</a>'\n",
              "            + ' to learn more about interactive tables.';\n",
              "          element.innerHTML = '';\n",
              "          dataTable['output_type'] = 'display_data';\n",
              "          await google.colab.output.renderOutput(dataTable, element);\n",
              "          const docLink = document.createElement('div');\n",
              "          docLink.innerHTML = docLinkHtml;\n",
              "          element.appendChild(docLink);\n",
              "        }\n",
              "      </script>\n",
              "    </div>\n",
              "  </div>\n"
            ]
          },
          "metadata": {},
          "execution_count": 13
        }
      ]
    },
    {
      "cell_type": "code",
      "source": [
        "\n",
        "# Create a DataFrame from the processed data\n",
        "train_data_df = pd.DataFrame(processed_data_list)\n",
        "\n",
        "# Combine 'title' and 'abstract' columns into 'combined_text'\n",
        "train_data_df['combined_text'] = train_data_df['title'] + ' ' + train_data_df['abstract']\n",
        "\n",
        "# Initialize the CountVectorizer\n",
        "vectorizer = CountVectorizer()\n",
        "\n",
        "# Fit and transform the training data\n",
        "X_train_bow = vectorizer.fit_transform(train_data_df['combined_text'])\n",
        "\n",
        "# Save the fitted vectorizer using pickle\n",
        "with open('vectorizer.pickle', 'wb') as f:\n",
        "    pickle.dump(vectorizer, f)\n"
      ],
      "metadata": {
        "id": "S6EGqBnakyeW"
      },
      "id": "S6EGqBnakyeW",
      "execution_count": null,
      "outputs": []
    },
    {
      "cell_type": "code",
      "source": [
        "\n",
        "# Initialize the CountVectorizer again (not necessary if you've already fitted it)\n",
        "vectorizer = CountVectorizer()\n",
        "\n",
        "# Fit and transform the training data again (not necessary if you've already done it)\n",
        "X_train_bow = vectorizer.fit_transform(train_data_df['combined_text'])\n",
        "\n",
        "# Get the vocabulary (feature names) from the CountVectorizer\n",
        "feature_names = vectorizer.get_feature_names_out()\n",
        "\n",
        "# Print the first 70 feature names\n",
        "print(feature_names[:70])\n"
      ],
      "metadata": {
        "colab": {
          "base_uri": "https://localhost:8080/"
        },
        "id": "RTXK4045lGE8",
        "outputId": "afb988ed-2d71-47b3-a78b-7f5cdb58d1a9"
      },
      "id": "RTXK4045lGE8",
      "execution_count": null,
      "outputs": [
        {
          "output_type": "stream",
          "name": "stdout",
          "text": [
            "['00' '000' '0000' '000001' '000002' '00001' '00002' '00003' '000037'\n",
            " '00005' '00006' '00008' '0001' '000148' '0002' '0003' '00038' '0004'\n",
            " '0005' '0006' '0007' '0008' '00085' '00087' '0009' '00097' '000pc' '001'\n",
            " '0010' '0011' '0012' '0013' '0014' '0015' '0016' '0017' '0018' '0019'\n",
            " '002' '0020' '0022' '0023' '0024' '0025' '0026' '0027' '0029' '003'\n",
            " '0030' '0030x' '0032' '00321' '0033' '00335' '0034' '0035' '0036' '0038'\n",
            " '0039' '003m' '004' '0041' '0042' '0043' '0045' '0046' '0047' '0048'\n",
            " '0049' '005']\n"
          ]
        }
      ]
    },
    {
      "cell_type": "markdown",
      "source": [
        "# **test data**"
      ],
      "metadata": {
        "id": "lgCivFJqlLOp"
      },
      "id": "lgCivFJqlLOp"
    },
    {
      "cell_type": "markdown",
      "source": [
        "\n",
        "uncomment the below cell to run complete code from scratch\n",
        "The preprocessed test data will be stored in a\n",
        "\n",
        "expected output:\n",
        "\n",
        "\n",
        "100%\n",
        "293855/293855 [15:30<00:00, 311.54it/s]\n",
        "\n",
        "\n"
      ],
      "metadata": {
        "id": "IOtN9wL8zvxE"
      },
      "id": "IOtN9wL8zvxE"
    },
    {
      "cell_type": "code",
      "source": [
        "\n",
        "\n",
        "# Create a list to store preprocessed test data\n",
        "processed_test_data_list = []\n",
        "\n",
        "# Loop through test_data and preprocess\n",
        "for data in tqdm(test_data):\n",
        "    # Preprocess 'title', 'abstract', and 'mesh_terms' fields\n",
        "    data['title'] = preprocess_text(data['title'])\n",
        "    data['abstract'] = preprocess_text(data['abstract'])\n",
        "    data['mesh_terms'] = preprocess_text(data['mesh_terms'])\n",
        "\n",
        "    # Append the preprocessed data dictionary to the list\n",
        "    processed_test_data_list.append(data)\n",
        "\n",
        "# Save the processed_test_data_list to a pickle file\n",
        "with open('processed_test_data.pickle', 'wb') as f:\n",
        "    pickle.dump(processed_test_data_list, f)\n"
      ],
      "metadata": {
        "colab": {
          "base_uri": "https://localhost:8080/",
          "height": 49,
          "referenced_widgets": [
            "f878988afdbf402283ed9237aee3510a",
            "7251ee6891a544b68d7277c40bc3e6c9",
            "89a1f46da50f4068925f6c1c3c9ea1ca",
            "94c2a9727dc941f6946f9079a6da7b6c",
            "d614331d3d704e9191e948afd7444480",
            "05eb2f04fe7b40799704675401b844a5",
            "b41205a0fd744d229e0c4dc577661731",
            "fd4dd832a5004426bbaa6b32fbbce3d6",
            "1ac37fb62c5a46baa1f1b1f35973005b",
            "c4a34413dcfc49c894739da8b8413561",
            "8ca0190cdea4450e85dfb37c12f674f9"
          ]
        },
        "id": "fWQv8bHHniOs",
        "outputId": "b524debd-a8ae-46e1-aae2-a772421743ab"
      },
      "id": "fWQv8bHHniOs",
      "execution_count": null,
      "outputs": [
        {
          "output_type": "display_data",
          "data": {
            "text/plain": [
              "  0%|          | 0/293855 [00:00<?, ?it/s]"
            ],
            "application/vnd.jupyter.widget-view+json": {
              "version_major": 2,
              "version_minor": 0,
              "model_id": "f878988afdbf402283ed9237aee3510a"
            }
          },
          "metadata": {}
        }
      ]
    },
    {
      "cell_type": "code",
      "source": [
        "\n",
        "# #Create a DataFrame from the processed test data"
      ],
      "metadata": {
        "id": "wEZjfl7pt16e"
      },
      "id": "wEZjfl7pt16e",
      "execution_count": null,
      "outputs": []
    },
    {
      "cell_type": "code",
      "source": [
        "with open('processed_test_data.pickle', 'rb') as f:\n",
        "    vectorizer = pickle.load(f)\n",
        "\n",
        "\n",
        "test_data_df = pd.DataFrame(processed_test_data)\n",
        "\n",
        "# # Combine 'title' and 'abstract' columns into 'combined_text'\n",
        "# test_data_df['combined_text'] = test_data_df['title'] + ' ' + test_data_df['abstract']\n",
        "\n",
        "# # Load the vectorizer from the training data (assuming 'vectorizer' was saved)\n",
        "# Load the fitted vectorizer from the pickle file\n",
        "with open('vectorizer.pickle', 'rb') as f:\n",
        "    vectorizer = pickle.load(f)\n",
        "\n",
        "# Preprocessing for the test data (assuming you've loaded and preprocessed it)\n",
        "test_data_df['combined_text'] = test_data_df['title'] + ' ' + test_data_df['abstract']\n",
        "\n",
        "# Transform the test data using the loaded vectorizer\n",
        "X_test_bow = vectorizer.transform(test_data_df['combined_text'])\n"
      ],
      "metadata": {
        "colab": {
          "base_uri": "https://localhost:8080/"
        },
        "id": "vtZzNZhIt3sz",
        "outputId": "ef827579-5d8e-477e-fb37-a3dc877c830d"
      },
      "id": "vtZzNZhIt3sz",
      "execution_count": null,
      "outputs": [
        {
          "output_type": "error",
          "ename": "NameError",
          "evalue": "ignored",
          "traceback": [
            "\u001b[0;31m---------------------------------------------------------------------------\u001b[0m",
            "\u001b[0;31mNameError\u001b[0m                                 Traceback (most recent call last)",
            "\u001b[0;32m<ipython-input-28-cd9147663e94>\u001b[0m in \u001b[0;36m<cell line: 1>\u001b[0;34m()\u001b[0m\n\u001b[0;32m----> 1\u001b[0;31m \u001b[0mtest_data_df\u001b[0m \u001b[0;34m=\u001b[0m \u001b[0mpd\u001b[0m\u001b[0;34m.\u001b[0m\u001b[0mDataFrame\u001b[0m\u001b[0;34m(\u001b[0m\u001b[0mprocessed_test_data\u001b[0m\u001b[0;34m)\u001b[0m\u001b[0;34m\u001b[0m\u001b[0;34m\u001b[0m\u001b[0m\n\u001b[0m\u001b[1;32m      2\u001b[0m \u001b[0;34m\u001b[0m\u001b[0m\n\u001b[1;32m      3\u001b[0m \u001b[0;31m# # Combine 'title' and 'abstract' columns into 'combined_text'\u001b[0m\u001b[0;34m\u001b[0m\u001b[0;34m\u001b[0m\u001b[0m\n\u001b[1;32m      4\u001b[0m \u001b[0;31m# test_data_df['combined_text'] = test_data_df['title'] + ' ' + test_data_df['abstract']\u001b[0m\u001b[0;34m\u001b[0m\u001b[0;34m\u001b[0m\u001b[0m\n\u001b[1;32m      5\u001b[0m \u001b[0;34m\u001b[0m\u001b[0m\n",
            "\u001b[0;31mNameError\u001b[0m: name 'processed_test_data' is not defined"
          ]
        }
      ]
    },
    {
      "cell_type": "code",
      "source": [
        "#CHUNK 1\n",
        "# Create a DataFrame from the processed test data\n",
        "test_data_df = pd.DataFrame(processed_test_data_list)\n",
        "\n",
        "# Combine 'title' and 'abstract' columns into 'combined_text'\n",
        "test_data_df['combined_text'] = test_data_df['title'] + ' ' + test_data_df['abstract']\n",
        "\n",
        "# Load the vectorizer from the training data (assuming 'vectorizer' was saved)\n",
        "with open('vectorizer.pickle', 'rb') as f:\n",
        "    vectorizer = pickle.load(f)\n"
      ],
      "metadata": {
        "id": "RPxnIz89onnM"
      },
      "id": "RPxnIz89onnM",
      "execution_count": null,
      "outputs": []
    },
    {
      "cell_type": "code",
      "source": [
        "#chunk 2\n",
        "\n",
        "# Initialize a batch size for processing\n",
        "batch_size = 1000\n",
        "\n",
        "# Initialize the StandardScaler\n",
        "scaler = StandardScaler()\n",
        "\n",
        "# Initialize an empty list to store scaled batches\n",
        "scaled_batches = []\n",
        "\n",
        "# Loop through batches and perform scaling\n",
        "for batch_start in range(0, len(test_data_df), batch_size):\n",
        "    batch_end = batch_start + batch_size\n",
        "    batch = test_data_df.iloc[batch_start:batch_end]\n",
        "\n",
        "    # Vectorization (use the same vectorizer from the training data)\n",
        "    batch_vectorized = vectorizer.transform(batch['combined_text'])\n",
        "\n",
        "    # Feature Scaling (use the same scaler from the training data)\n",
        "    batch_scaled = scaler.fit_transform(batch_vectorized.toarray())\n",
        "    scaled_batches.append(batch_scaled)"
      ],
      "metadata": {
        "id": "NuEB-6UdjbVm"
      },
      "id": "NuEB-6UdjbVm",
      "execution_count": null,
      "outputs": []
    },
    {
      "cell_type": "code",
      "source": [
        "\n",
        "\n",
        "# import dask.dataframe as dd\n",
        "# from sklearn.feature_extraction.text import TfidfVectorizer\n",
        "# from sklearn.preprocessing import StandardScaler\n",
        "# import pickle\n",
        "\n",
        "# # Load the processed data from the pickle file\n",
        "# with open('processed_data.pickle', 'rb') as f:\n",
        "#     processed_data_list = pickle.load(f)\n",
        "\n",
        "# # Convert the processed data list to a pandas DataFrame\n",
        "# import pandas as pd\n",
        "# train_data_df = pd.DataFrame(processed_data_list)\n",
        "\n",
        "# # Combine 'title' and 'abstract' columns into 'combined_text'\n",
        "# train_data_df['combined_text'] = train_data_df['title'] + ' ' + train_data_df['abstract']\n",
        "\n",
        "# # Initialize the TfidfVectorizer\n",
        "# vectorizer = TfidfVectorizer()\n",
        "\n",
        "# # Fit and transform the training data\n",
        "# X_train_tfidf = vectorizer.fit_transform(train_data_df['combined_text'])\n",
        "\n",
        "# # Initialize the StandardScaler\n",
        "# scaler = StandardScaler()\n",
        "\n",
        "# # Transform the TF-IDF vectors using the same scaler\n",
        "# X_train_scaled = scaler.fit_transform(X_train_tfidf.toarray())\n",
        "\n",
        "# # Save the fitted vectorizer for later use\n",
        "# with open('tfidf_vectorizer.pickle', 'wb') as f:\n",
        "#     pickle.dump(vectorizer, f)\n"
      ],
      "metadata": {
        "id": "SCh7ADTioroP"
      },
      "id": "SCh7ADTioroP",
      "execution_count": null,
      "outputs": []
    },
    {
      "cell_type": "code",
      "source": [
        "# Create a DataFrame from the processed test data\n",
        "test_data_df = pd.DataFrame(processed_test_data_list)\n",
        "\n",
        "# Combine 'title' and 'abstract' columns into 'combined_text'\n",
        "test_data_df['combined_text'] = test_data_df['title'] + ' ' + test_data_df['abstract']\n",
        "\n",
        "# Load the vectorizer from the training data (assuming 'vectorizer' was saved)\n",
        "with open('vectorizer.pickle', 'rb') as f:\n",
        "    vectorizer = pickle.load(f)\n"
      ],
      "metadata": {
        "id": "RxpjC_UJphT2"
      },
      "id": "RxpjC_UJphT2",
      "execution_count": null,
      "outputs": []
    },
    {
      "cell_type": "code",
      "source": [
        "\n",
        "# Load the SVM model (assuming 'svm_model' was trained and saved)\n",
        "with open('svm_model.pickle', 'rb') as f:\n",
        "    svm_model = pickle.load(f)\n"
      ],
      "metadata": {
        "id": "wYnySEqRphRA"
      },
      "id": "wYnySEqRphRA",
      "execution_count": null,
      "outputs": []
    },
    {
      "cell_type": "code",
      "source": [
        "\n",
        "# # Initialize a batch size for processing\n",
        "# batch_size = 1000\n",
        "\n",
        "# # Initialize an empty list to store predictions\n",
        "# all_test_predictions = []\n",
        "\n",
        "# # Loop through batches and perform predictions\n",
        "# for batch_start in range(0, len(test_data_df), batch_size):\n",
        "#     batch_end = batch_start + batch_size\n",
        "#     batch = test_data_df.iloc[batch_start:batch_end]\n",
        "\n",
        "#     # Vectorization (use the same vectorizer from the training data)\n",
        "#     batch_vectorized = vectorizer.transform(batch['combined_text'])\n",
        "\n",
        "#     # SVM Prediction\n",
        "#     batch_predictions = svm_model.predict(batch_vectorized)\n",
        "#     all_test_predictions.extend(batch_predictions)\n",
        "\n",
        "# # Print or use the test_predictions for further analysis\n",
        "# print(\"Test predictions:\", all_test_predictions)\n",
        "\n",
        "\n",
        "\n",
        "\n",
        "import dask.dataframe as dd\n",
        "from sklearn.feature_extraction.text import CountVectorizer\n",
        "from sklearn.preprocessing import StandardScaler\n",
        "import pickle\n",
        "\n",
        "# Load the processed data from the pickle file\n",
        "with open('processed_data.pickle', 'rb') as f:\n",
        "    processed_data_list = pickle.load(f)\n",
        "\n",
        "# Create a Dask DataFrame from the processed data\n",
        "ddf = dd.from_pandas(processed_data_list, npartitions=10)  # You can adjust the number of partitions\n",
        "\n",
        "# Combine 'title' and 'abstract' columns into 'combined_text'\n",
        "ddf['combined_text'] = ddf['title'] + ' ' + ddf['abstract']\n",
        "\n",
        "# Initialize the CountVectorizer\n",
        "vectorizer = CountVectorizer()\n",
        "\n",
        "# Initialize the StandardScaler\n",
        "scaler = StandardScaler()\n",
        "\n",
        "# Initialize an empty list to store scaled batches\n",
        "scaled_batches = []\n",
        "\n",
        "# Loop through partitions and perform scaling\n",
        "for partition in ddf.partitions:\n",
        "\n",
        "    # Vectorization (use the same vectorizer from the training data)\n",
        "    partition_vectorized = vectorizer.transform(partition['combined_text'])\n",
        "\n",
        "    # Feature Scaling (use the same scaler from the training data)\n",
        "    partition_scaled = scaler.fit_transform(partition_vectorized.toarray())\n",
        "    scaled_batches.append(partition_scaled)\n",
        "\n",
        "# Concatenate the scaled batches\n",
        "X_test_bow = dd.concatenate(scaled_batches)\n",
        "\n",
        "# Compute the result to get a NumPy array\n",
        "X_test_bow = X_test_bow.compute()\n",
        "\n",
        "# Now you can use X_test_bow for predictions\n",
        "\n"
      ],
      "metadata": {
        "id": "2hLZVBKbphML"
      },
      "id": "2hLZVBKbphML",
      "execution_count": null,
      "outputs": []
    },
    {
      "cell_type": "code",
      "source": [
        "#oracle test assesment\n",
        "#https://www.hackerrank.com/test/86tthog809l/login?b=eyJ1c2VybmFtZSI6InNyZWVtYWVlMjEyMUBnbWFpbC5jb20iLCJwYXNzd29yZCI6ImFmMDMzMzJhIiwiaGlkZSI6dHJ1ZSwiYWNjb21tb2RhdGlvbnMiOnsiYWRkaXRpb25hbF90aW1lX3BlcmNlbnQiOjB9fQ=="
      ],
      "metadata": {
        "id": "YAvg0HKyphEi"
      },
      "id": "YAvg0HKyphEi",
      "execution_count": null,
      "outputs": []
    },
    {
      "cell_type": "code",
      "source": [],
      "metadata": {
        "id": "tgvfs3m0bOMc"
      },
      "id": "tgvfs3m0bOMc",
      "execution_count": null,
      "outputs": []
    }
  ],
  "metadata": {
    "kernelspec": {
      "display_name": "Python 3 (ipykernel)",
      "language": "python",
      "name": "python3"
    },
    "language_info": {
      "codemirror_mode": {
        "name": "ipython",
        "version": 3
      },
      "file_extension": ".py",
      "mimetype": "text/x-python",
      "name": "python",
      "nbconvert_exporter": "python",
      "pygments_lexer": "ipython3",
      "version": "3.9.12"
    },
    "colab": {
      "provenance": [],
      "include_colab_link": true
    },
    "widgets": {
      "application/vnd.jupyter.widget-state+json": {
        "01cd2e31229940beaa5fbc6647560477": {
          "model_module": "@jupyter-widgets/controls",
          "model_name": "HBoxModel",
          "model_module_version": "1.5.0",
          "state": {
            "_dom_classes": [],
            "_model_module": "@jupyter-widgets/controls",
            "_model_module_version": "1.5.0",
            "_model_name": "HBoxModel",
            "_view_count": null,
            "_view_module": "@jupyter-widgets/controls",
            "_view_module_version": "1.5.0",
            "_view_name": "HBoxView",
            "box_style": "",
            "children": [
              "IPY_MODEL_4f7c13580d764e8b8151a357dce5faa1",
              "IPY_MODEL_9bd6d85da9c54cc5a787ad1edd600649",
              "IPY_MODEL_2917a6ea1e7d470680a1cae2d743459d"
            ],
            "layout": "IPY_MODEL_48f8ffdd4e954c9fa8382f5d0037195c"
          }
        },
        "4f7c13580d764e8b8151a357dce5faa1": {
          "model_module": "@jupyter-widgets/controls",
          "model_name": "HTMLModel",
          "model_module_version": "1.5.0",
          "state": {
            "_dom_classes": [],
            "_model_module": "@jupyter-widgets/controls",
            "_model_module_version": "1.5.0",
            "_model_name": "HTMLModel",
            "_view_count": null,
            "_view_module": "@jupyter-widgets/controls",
            "_view_module_version": "1.5.0",
            "_view_name": "HTMLView",
            "description": "",
            "description_tooltip": null,
            "layout": "IPY_MODEL_e9b1f48bd1004f5e838daf90232f7f5a",
            "placeholder": "​",
            "style": "IPY_MODEL_83c3083c90d94ecaae9ef109a56b0e58",
            "value": "100%"
          }
        },
        "9bd6d85da9c54cc5a787ad1edd600649": {
          "model_module": "@jupyter-widgets/controls",
          "model_name": "FloatProgressModel",
          "model_module_version": "1.5.0",
          "state": {
            "_dom_classes": [],
            "_model_module": "@jupyter-widgets/controls",
            "_model_module_version": "1.5.0",
            "_model_name": "FloatProgressModel",
            "_view_count": null,
            "_view_module": "@jupyter-widgets/controls",
            "_view_module_version": "1.5.0",
            "_view_name": "ProgressView",
            "bar_style": "success",
            "description": "",
            "description_tooltip": null,
            "layout": "IPY_MODEL_161c2d32be8d4131816038ce66013b39",
            "max": 54709,
            "min": 0,
            "orientation": "horizontal",
            "style": "IPY_MODEL_a1d6567218544d6e9c16369cee2da462",
            "value": 54709
          }
        },
        "2917a6ea1e7d470680a1cae2d743459d": {
          "model_module": "@jupyter-widgets/controls",
          "model_name": "HTMLModel",
          "model_module_version": "1.5.0",
          "state": {
            "_dom_classes": [],
            "_model_module": "@jupyter-widgets/controls",
            "_model_module_version": "1.5.0",
            "_model_name": "HTMLModel",
            "_view_count": null,
            "_view_module": "@jupyter-widgets/controls",
            "_view_module_version": "1.5.0",
            "_view_name": "HTMLView",
            "description": "",
            "description_tooltip": null,
            "layout": "IPY_MODEL_ca8de0fa538142689fd17aae3d3740a4",
            "placeholder": "​",
            "style": "IPY_MODEL_8022b8a9f7714e44b1608c0b4d0775bd",
            "value": " 54709/54709 [02:46&lt;00:00, 233.25it/s]"
          }
        },
        "48f8ffdd4e954c9fa8382f5d0037195c": {
          "model_module": "@jupyter-widgets/base",
          "model_name": "LayoutModel",
          "model_module_version": "1.2.0",
          "state": {
            "_model_module": "@jupyter-widgets/base",
            "_model_module_version": "1.2.0",
            "_model_name": "LayoutModel",
            "_view_count": null,
            "_view_module": "@jupyter-widgets/base",
            "_view_module_version": "1.2.0",
            "_view_name": "LayoutView",
            "align_content": null,
            "align_items": null,
            "align_self": null,
            "border": null,
            "bottom": null,
            "display": null,
            "flex": null,
            "flex_flow": null,
            "grid_area": null,
            "grid_auto_columns": null,
            "grid_auto_flow": null,
            "grid_auto_rows": null,
            "grid_column": null,
            "grid_gap": null,
            "grid_row": null,
            "grid_template_areas": null,
            "grid_template_columns": null,
            "grid_template_rows": null,
            "height": null,
            "justify_content": null,
            "justify_items": null,
            "left": null,
            "margin": null,
            "max_height": null,
            "max_width": null,
            "min_height": null,
            "min_width": null,
            "object_fit": null,
            "object_position": null,
            "order": null,
            "overflow": null,
            "overflow_x": null,
            "overflow_y": null,
            "padding": null,
            "right": null,
            "top": null,
            "visibility": null,
            "width": null
          }
        },
        "e9b1f48bd1004f5e838daf90232f7f5a": {
          "model_module": "@jupyter-widgets/base",
          "model_name": "LayoutModel",
          "model_module_version": "1.2.0",
          "state": {
            "_model_module": "@jupyter-widgets/base",
            "_model_module_version": "1.2.0",
            "_model_name": "LayoutModel",
            "_view_count": null,
            "_view_module": "@jupyter-widgets/base",
            "_view_module_version": "1.2.0",
            "_view_name": "LayoutView",
            "align_content": null,
            "align_items": null,
            "align_self": null,
            "border": null,
            "bottom": null,
            "display": null,
            "flex": null,
            "flex_flow": null,
            "grid_area": null,
            "grid_auto_columns": null,
            "grid_auto_flow": null,
            "grid_auto_rows": null,
            "grid_column": null,
            "grid_gap": null,
            "grid_row": null,
            "grid_template_areas": null,
            "grid_template_columns": null,
            "grid_template_rows": null,
            "height": null,
            "justify_content": null,
            "justify_items": null,
            "left": null,
            "margin": null,
            "max_height": null,
            "max_width": null,
            "min_height": null,
            "min_width": null,
            "object_fit": null,
            "object_position": null,
            "order": null,
            "overflow": null,
            "overflow_x": null,
            "overflow_y": null,
            "padding": null,
            "right": null,
            "top": null,
            "visibility": null,
            "width": null
          }
        },
        "83c3083c90d94ecaae9ef109a56b0e58": {
          "model_module": "@jupyter-widgets/controls",
          "model_name": "DescriptionStyleModel",
          "model_module_version": "1.5.0",
          "state": {
            "_model_module": "@jupyter-widgets/controls",
            "_model_module_version": "1.5.0",
            "_model_name": "DescriptionStyleModel",
            "_view_count": null,
            "_view_module": "@jupyter-widgets/base",
            "_view_module_version": "1.2.0",
            "_view_name": "StyleView",
            "description_width": ""
          }
        },
        "161c2d32be8d4131816038ce66013b39": {
          "model_module": "@jupyter-widgets/base",
          "model_name": "LayoutModel",
          "model_module_version": "1.2.0",
          "state": {
            "_model_module": "@jupyter-widgets/base",
            "_model_module_version": "1.2.0",
            "_model_name": "LayoutModel",
            "_view_count": null,
            "_view_module": "@jupyter-widgets/base",
            "_view_module_version": "1.2.0",
            "_view_name": "LayoutView",
            "align_content": null,
            "align_items": null,
            "align_self": null,
            "border": null,
            "bottom": null,
            "display": null,
            "flex": null,
            "flex_flow": null,
            "grid_area": null,
            "grid_auto_columns": null,
            "grid_auto_flow": null,
            "grid_auto_rows": null,
            "grid_column": null,
            "grid_gap": null,
            "grid_row": null,
            "grid_template_areas": null,
            "grid_template_columns": null,
            "grid_template_rows": null,
            "height": null,
            "justify_content": null,
            "justify_items": null,
            "left": null,
            "margin": null,
            "max_height": null,
            "max_width": null,
            "min_height": null,
            "min_width": null,
            "object_fit": null,
            "object_position": null,
            "order": null,
            "overflow": null,
            "overflow_x": null,
            "overflow_y": null,
            "padding": null,
            "right": null,
            "top": null,
            "visibility": null,
            "width": null
          }
        },
        "a1d6567218544d6e9c16369cee2da462": {
          "model_module": "@jupyter-widgets/controls",
          "model_name": "ProgressStyleModel",
          "model_module_version": "1.5.0",
          "state": {
            "_model_module": "@jupyter-widgets/controls",
            "_model_module_version": "1.5.0",
            "_model_name": "ProgressStyleModel",
            "_view_count": null,
            "_view_module": "@jupyter-widgets/base",
            "_view_module_version": "1.2.0",
            "_view_name": "StyleView",
            "bar_color": null,
            "description_width": ""
          }
        },
        "ca8de0fa538142689fd17aae3d3740a4": {
          "model_module": "@jupyter-widgets/base",
          "model_name": "LayoutModel",
          "model_module_version": "1.2.0",
          "state": {
            "_model_module": "@jupyter-widgets/base",
            "_model_module_version": "1.2.0",
            "_model_name": "LayoutModel",
            "_view_count": null,
            "_view_module": "@jupyter-widgets/base",
            "_view_module_version": "1.2.0",
            "_view_name": "LayoutView",
            "align_content": null,
            "align_items": null,
            "align_self": null,
            "border": null,
            "bottom": null,
            "display": null,
            "flex": null,
            "flex_flow": null,
            "grid_area": null,
            "grid_auto_columns": null,
            "grid_auto_flow": null,
            "grid_auto_rows": null,
            "grid_column": null,
            "grid_gap": null,
            "grid_row": null,
            "grid_template_areas": null,
            "grid_template_columns": null,
            "grid_template_rows": null,
            "height": null,
            "justify_content": null,
            "justify_items": null,
            "left": null,
            "margin": null,
            "max_height": null,
            "max_width": null,
            "min_height": null,
            "min_width": null,
            "object_fit": null,
            "object_position": null,
            "order": null,
            "overflow": null,
            "overflow_x": null,
            "overflow_y": null,
            "padding": null,
            "right": null,
            "top": null,
            "visibility": null,
            "width": null
          }
        },
        "8022b8a9f7714e44b1608c0b4d0775bd": {
          "model_module": "@jupyter-widgets/controls",
          "model_name": "DescriptionStyleModel",
          "model_module_version": "1.5.0",
          "state": {
            "_model_module": "@jupyter-widgets/controls",
            "_model_module_version": "1.5.0",
            "_model_name": "DescriptionStyleModel",
            "_view_count": null,
            "_view_module": "@jupyter-widgets/base",
            "_view_module_version": "1.2.0",
            "_view_name": "StyleView",
            "description_width": ""
          }
        },
        "f878988afdbf402283ed9237aee3510a": {
          "model_module": "@jupyter-widgets/controls",
          "model_name": "HBoxModel",
          "model_module_version": "1.5.0",
          "state": {
            "_dom_classes": [],
            "_model_module": "@jupyter-widgets/controls",
            "_model_module_version": "1.5.0",
            "_model_name": "HBoxModel",
            "_view_count": null,
            "_view_module": "@jupyter-widgets/controls",
            "_view_module_version": "1.5.0",
            "_view_name": "HBoxView",
            "box_style": "",
            "children": [
              "IPY_MODEL_7251ee6891a544b68d7277c40bc3e6c9",
              "IPY_MODEL_89a1f46da50f4068925f6c1c3c9ea1ca",
              "IPY_MODEL_94c2a9727dc941f6946f9079a6da7b6c"
            ],
            "layout": "IPY_MODEL_d614331d3d704e9191e948afd7444480"
          }
        },
        "7251ee6891a544b68d7277c40bc3e6c9": {
          "model_module": "@jupyter-widgets/controls",
          "model_name": "HTMLModel",
          "model_module_version": "1.5.0",
          "state": {
            "_dom_classes": [],
            "_model_module": "@jupyter-widgets/controls",
            "_model_module_version": "1.5.0",
            "_model_name": "HTMLModel",
            "_view_count": null,
            "_view_module": "@jupyter-widgets/controls",
            "_view_module_version": "1.5.0",
            "_view_name": "HTMLView",
            "description": "",
            "description_tooltip": null,
            "layout": "IPY_MODEL_05eb2f04fe7b40799704675401b844a5",
            "placeholder": "​",
            "style": "IPY_MODEL_b41205a0fd744d229e0c4dc577661731",
            "value": "100%"
          }
        },
        "89a1f46da50f4068925f6c1c3c9ea1ca": {
          "model_module": "@jupyter-widgets/controls",
          "model_name": "FloatProgressModel",
          "model_module_version": "1.5.0",
          "state": {
            "_dom_classes": [],
            "_model_module": "@jupyter-widgets/controls",
            "_model_module_version": "1.5.0",
            "_model_name": "FloatProgressModel",
            "_view_count": null,
            "_view_module": "@jupyter-widgets/controls",
            "_view_module_version": "1.5.0",
            "_view_name": "ProgressView",
            "bar_style": "success",
            "description": "",
            "description_tooltip": null,
            "layout": "IPY_MODEL_fd4dd832a5004426bbaa6b32fbbce3d6",
            "max": 293855,
            "min": 0,
            "orientation": "horizontal",
            "style": "IPY_MODEL_1ac37fb62c5a46baa1f1b1f35973005b",
            "value": 293855
          }
        },
        "94c2a9727dc941f6946f9079a6da7b6c": {
          "model_module": "@jupyter-widgets/controls",
          "model_name": "HTMLModel",
          "model_module_version": "1.5.0",
          "state": {
            "_dom_classes": [],
            "_model_module": "@jupyter-widgets/controls",
            "_model_module_version": "1.5.0",
            "_model_name": "HTMLModel",
            "_view_count": null,
            "_view_module": "@jupyter-widgets/controls",
            "_view_module_version": "1.5.0",
            "_view_name": "HTMLView",
            "description": "",
            "description_tooltip": null,
            "layout": "IPY_MODEL_c4a34413dcfc49c894739da8b8413561",
            "placeholder": "​",
            "style": "IPY_MODEL_8ca0190cdea4450e85dfb37c12f674f9",
            "value": " 293855/293855 [15:55&lt;00:00, 286.17it/s]"
          }
        },
        "d614331d3d704e9191e948afd7444480": {
          "model_module": "@jupyter-widgets/base",
          "model_name": "LayoutModel",
          "model_module_version": "1.2.0",
          "state": {
            "_model_module": "@jupyter-widgets/base",
            "_model_module_version": "1.2.0",
            "_model_name": "LayoutModel",
            "_view_count": null,
            "_view_module": "@jupyter-widgets/base",
            "_view_module_version": "1.2.0",
            "_view_name": "LayoutView",
            "align_content": null,
            "align_items": null,
            "align_self": null,
            "border": null,
            "bottom": null,
            "display": null,
            "flex": null,
            "flex_flow": null,
            "grid_area": null,
            "grid_auto_columns": null,
            "grid_auto_flow": null,
            "grid_auto_rows": null,
            "grid_column": null,
            "grid_gap": null,
            "grid_row": null,
            "grid_template_areas": null,
            "grid_template_columns": null,
            "grid_template_rows": null,
            "height": null,
            "justify_content": null,
            "justify_items": null,
            "left": null,
            "margin": null,
            "max_height": null,
            "max_width": null,
            "min_height": null,
            "min_width": null,
            "object_fit": null,
            "object_position": null,
            "order": null,
            "overflow": null,
            "overflow_x": null,
            "overflow_y": null,
            "padding": null,
            "right": null,
            "top": null,
            "visibility": null,
            "width": null
          }
        },
        "05eb2f04fe7b40799704675401b844a5": {
          "model_module": "@jupyter-widgets/base",
          "model_name": "LayoutModel",
          "model_module_version": "1.2.0",
          "state": {
            "_model_module": "@jupyter-widgets/base",
            "_model_module_version": "1.2.0",
            "_model_name": "LayoutModel",
            "_view_count": null,
            "_view_module": "@jupyter-widgets/base",
            "_view_module_version": "1.2.0",
            "_view_name": "LayoutView",
            "align_content": null,
            "align_items": null,
            "align_self": null,
            "border": null,
            "bottom": null,
            "display": null,
            "flex": null,
            "flex_flow": null,
            "grid_area": null,
            "grid_auto_columns": null,
            "grid_auto_flow": null,
            "grid_auto_rows": null,
            "grid_column": null,
            "grid_gap": null,
            "grid_row": null,
            "grid_template_areas": null,
            "grid_template_columns": null,
            "grid_template_rows": null,
            "height": null,
            "justify_content": null,
            "justify_items": null,
            "left": null,
            "margin": null,
            "max_height": null,
            "max_width": null,
            "min_height": null,
            "min_width": null,
            "object_fit": null,
            "object_position": null,
            "order": null,
            "overflow": null,
            "overflow_x": null,
            "overflow_y": null,
            "padding": null,
            "right": null,
            "top": null,
            "visibility": null,
            "width": null
          }
        },
        "b41205a0fd744d229e0c4dc577661731": {
          "model_module": "@jupyter-widgets/controls",
          "model_name": "DescriptionStyleModel",
          "model_module_version": "1.5.0",
          "state": {
            "_model_module": "@jupyter-widgets/controls",
            "_model_module_version": "1.5.0",
            "_model_name": "DescriptionStyleModel",
            "_view_count": null,
            "_view_module": "@jupyter-widgets/base",
            "_view_module_version": "1.2.0",
            "_view_name": "StyleView",
            "description_width": ""
          }
        },
        "fd4dd832a5004426bbaa6b32fbbce3d6": {
          "model_module": "@jupyter-widgets/base",
          "model_name": "LayoutModel",
          "model_module_version": "1.2.0",
          "state": {
            "_model_module": "@jupyter-widgets/base",
            "_model_module_version": "1.2.0",
            "_model_name": "LayoutModel",
            "_view_count": null,
            "_view_module": "@jupyter-widgets/base",
            "_view_module_version": "1.2.0",
            "_view_name": "LayoutView",
            "align_content": null,
            "align_items": null,
            "align_self": null,
            "border": null,
            "bottom": null,
            "display": null,
            "flex": null,
            "flex_flow": null,
            "grid_area": null,
            "grid_auto_columns": null,
            "grid_auto_flow": null,
            "grid_auto_rows": null,
            "grid_column": null,
            "grid_gap": null,
            "grid_row": null,
            "grid_template_areas": null,
            "grid_template_columns": null,
            "grid_template_rows": null,
            "height": null,
            "justify_content": null,
            "justify_items": null,
            "left": null,
            "margin": null,
            "max_height": null,
            "max_width": null,
            "min_height": null,
            "min_width": null,
            "object_fit": null,
            "object_position": null,
            "order": null,
            "overflow": null,
            "overflow_x": null,
            "overflow_y": null,
            "padding": null,
            "right": null,
            "top": null,
            "visibility": null,
            "width": null
          }
        },
        "1ac37fb62c5a46baa1f1b1f35973005b": {
          "model_module": "@jupyter-widgets/controls",
          "model_name": "ProgressStyleModel",
          "model_module_version": "1.5.0",
          "state": {
            "_model_module": "@jupyter-widgets/controls",
            "_model_module_version": "1.5.0",
            "_model_name": "ProgressStyleModel",
            "_view_count": null,
            "_view_module": "@jupyter-widgets/base",
            "_view_module_version": "1.2.0",
            "_view_name": "StyleView",
            "bar_color": null,
            "description_width": ""
          }
        },
        "c4a34413dcfc49c894739da8b8413561": {
          "model_module": "@jupyter-widgets/base",
          "model_name": "LayoutModel",
          "model_module_version": "1.2.0",
          "state": {
            "_model_module": "@jupyter-widgets/base",
            "_model_module_version": "1.2.0",
            "_model_name": "LayoutModel",
            "_view_count": null,
            "_view_module": "@jupyter-widgets/base",
            "_view_module_version": "1.2.0",
            "_view_name": "LayoutView",
            "align_content": null,
            "align_items": null,
            "align_self": null,
            "border": null,
            "bottom": null,
            "display": null,
            "flex": null,
            "flex_flow": null,
            "grid_area": null,
            "grid_auto_columns": null,
            "grid_auto_flow": null,
            "grid_auto_rows": null,
            "grid_column": null,
            "grid_gap": null,
            "grid_row": null,
            "grid_template_areas": null,
            "grid_template_columns": null,
            "grid_template_rows": null,
            "height": null,
            "justify_content": null,
            "justify_items": null,
            "left": null,
            "margin": null,
            "max_height": null,
            "max_width": null,
            "min_height": null,
            "min_width": null,
            "object_fit": null,
            "object_position": null,
            "order": null,
            "overflow": null,
            "overflow_x": null,
            "overflow_y": null,
            "padding": null,
            "right": null,
            "top": null,
            "visibility": null,
            "width": null
          }
        },
        "8ca0190cdea4450e85dfb37c12f674f9": {
          "model_module": "@jupyter-widgets/controls",
          "model_name": "DescriptionStyleModel",
          "model_module_version": "1.5.0",
          "state": {
            "_model_module": "@jupyter-widgets/controls",
            "_model_module_version": "1.5.0",
            "_model_name": "DescriptionStyleModel",
            "_view_count": null,
            "_view_module": "@jupyter-widgets/base",
            "_view_module_version": "1.2.0",
            "_view_name": "StyleView",
            "description_width": ""
          }
        }
      }
    }
  },
  "nbformat": 4,
  "nbformat_minor": 5
}